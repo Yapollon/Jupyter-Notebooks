{
 "nbformat": 4,
 "nbformat_minor": 0,
 "metadata": {
  "colab": {
   "provenance": [],
   "authorship_tag": "ABX9TyMkRaTAKH3fEZe5JQRziaEE"
  },
  "kernelspec": {
   "name": "python3",
   "display_name": "Python 3 (ipykernel)",
   "language": "python"
  },
  "language_info": {
   "name": "python"
  }
 },
 "cells": [
  {
   "metadata": {},
   "cell_type": "markdown",
   "source": "# Kapitel 1 Teil 1"
  },
  {
   "metadata": {
    "id": "xDOXeiba0R4q"
   },
   "cell_type": "markdown",
   "source": [
    "**Übung 1:**\n",
    "Schreiben Sie die Zahl 2,99x10$^8$ m/s in beiden Schreibweisen."
   ]
  },
  {
   "cell_type": "code",
   "source": [
    "x = 2.99*10**8  # normal\n",
    "y = 2.99e8      # kompakt\n",
    "\n",
    "print(x)\n",
    "print(y)"
   ],
   "metadata": {
    "colab": {
     "base_uri": "https://localhost:8080/"
    },
    "id": "wVqxG0IM0Xg7",
    "executionInfo": {
     "status": "ok",
     "timestamp": 1733737764418,
     "user_tz": -60,
     "elapsed": 214,
     "user": {
      "displayName": "Yassin Starzetz",
      "userId": "08518633285526025834"
     }
    },
    "outputId": "64b411fa-2aed-4313-f41a-11d5b0ed2bff",
    "ExecuteTime": {
     "end_time": "2024-12-10T12:17:18.212873Z",
     "start_time": "2024-12-10T12:17:18.192832Z"
    }
   },
   "outputs": [
    {
     "name": "stdout",
     "output_type": "stream",
     "text": [
      "299000000.0\n",
      "299000000.0\n"
     ]
    }
   ],
   "execution_count": 13
  },
  {
   "cell_type": "markdown",
   "source": [
    "**Übung 2:**\n",
    "\n",
    "Berechnen Sie die Gravitationskraft zwischen Erde und Sonne, gegeben ist die Masse der Erde mit $5.97×10^{24} kg$ und die der Sonne mit $1.99×10^{30} kg $. Der Durchschnittsabstand zwischen den beiden Objekten ist gegeben durch $1.5×10^{11} m$ und die Gravitationskonstante beträgt $6.674×10^{−11} N*m^2⋅kg^{−2}$."
   ],
   "metadata": {
    "id": "eSp-aeoc1AbM"
   }
  },
  {
   "cell_type": "code",
   "source": [
    "G=6.67e-11      # Gravitationskonstante in N*m^2/kg^2\n",
    "M_E=5.97e24     # Masse Erde in kg\n",
    "M_S=1.99e30     # Masse Sonne in kg\n",
    "r=1.5e11        # in meter\n",
    "F=G*M_E*M_S/r**2\n",
    "print(\"Gravitative Anziehungskraft in Newton =\",F)"
   ],
   "metadata": {
    "colab": {
     "base_uri": "https://localhost:8080/"
    },
    "id": "ttJOXDuY1Q8z",
    "executionInfo": {
     "status": "ok",
     "timestamp": 1733738265163,
     "user_tz": -60,
     "elapsed": 235,
     "user": {
      "displayName": "Yassin Starzetz",
      "userId": "08518633285526025834"
     }
    },
    "outputId": "0898b547-6a79-42e3-aa89-e5a8d1f429b7",
    "ExecuteTime": {
     "end_time": "2024-12-10T12:17:28.256201Z",
     "start_time": "2024-12-10T12:17:28.240578Z"
    }
   },
   "outputs": [
    {
     "name": "stdout",
     "output_type": "stream",
     "text": [
      "Gravitative Anziehungskraft in Newton = 3.5218489333333335e+22\n"
     ]
    }
   ],
   "execution_count": 14
  },
  {
   "cell_type": "markdown",
   "source": [
    "**Übung 3:**\n",
    "\n",
    "Berechnen Sie den Flächeninhalt eines Kreises mit dem Radius=3.0cm in m^2. <br>\n",
    "**Hinweis:** $\\pi$ kann mit `np.pi` aus dem numpy-Modul geladen werden."
   ],
   "metadata": {
    "id": "qdqQ-Vxc29DD"
   }
  },
  {
   "cell_type": "code",
   "source": [
    "import numpy as np\n",
    "\n",
    "pi = np.pi\n",
    "radius = 0.03\n",
    "\n",
    "area_of_a_circle = pi*radius**2     # Berechnung der Fläche eines Kreises\n",
    "print(f\"{area_of_a_circle} m²\")"
   ],
   "metadata": {
    "colab": {
     "base_uri": "https://localhost:8080/"
    },
    "id": "XJTrlXBv31Ak",
    "executionInfo": {
     "status": "ok",
     "timestamp": 1733738827999,
     "user_tz": -60,
     "elapsed": 178,
     "user": {
      "displayName": "Yassin Starzetz",
      "userId": "08518633285526025834"
     }
    },
    "outputId": "fe7541d8-a6aa-4e4b-f52b-522a5f4345b8",
    "ExecuteTime": {
     "end_time": "2024-12-10T12:17:45.055667Z",
     "start_time": "2024-12-10T12:17:45.043362Z"
    }
   },
   "outputs": [
    {
     "name": "stdout",
     "output_type": "stream",
     "text": [
      "0.0028274333882308137 m²\n"
     ]
    }
   ],
   "execution_count": 15
  },
  {
   "cell_type": "markdown",
   "source": [
    "**Übung 4:**\n",
    "\n",
    "Versuchen Sie die Dokumentation der cos-Funktion im np-Modul mithilfe der verschiedenen Methoden aufzurufen."
   ],
   "metadata": {
    "id": "ku8ukFkR5VFz"
   }
  },
  {
   "cell_type": "code",
   "source": [
    "help(np.cos)"
   ],
   "metadata": {
    "colab": {
     "base_uri": "https://localhost:8080/"
    },
    "id": "iO3RmLK55V95",
    "executionInfo": {
     "status": "ok",
     "timestamp": 1733739007873,
     "user_tz": -60,
     "elapsed": 241,
     "user": {
      "displayName": "Yassin Starzetz",
      "userId": "08518633285526025834"
     }
    },
    "outputId": "0d685b71-1789-4448-875b-e97f8ac074a5",
    "ExecuteTime": {
     "end_time": "2024-12-10T12:07:01.098323Z",
     "start_time": "2024-12-10T12:07:01.078680Z"
    }
   },
   "outputs": [
    {
     "name": "stdout",
     "output_type": "stream",
     "text": [
      "Help on ufunc in module numpy:\n",
      "\n",
      "cos = <ufunc 'cos'>\n",
      "    cos(x, /, out=None, *, where=True, casting='same_kind', order='K', dtype=None, subok=True[, signature])\n",
      "\n",
      "    Cosine element-wise.\n",
      "\n",
      "    Parameters\n",
      "    ----------\n",
      "    x : array_like\n",
      "        Input array in radians.\n",
      "    out : ndarray, None, or tuple of ndarray and None, optional\n",
      "        A location into which the result is stored. If provided, it must have\n",
      "        a shape that the inputs broadcast to. If not provided or None,\n",
      "        a freshly-allocated array is returned. A tuple (possible only as a\n",
      "        keyword argument) must have length equal to the number of outputs.\n",
      "    where : array_like, optional\n",
      "        This condition is broadcast over the input. At locations where the\n",
      "        condition is True, the `out` array will be set to the ufunc result.\n",
      "        Elsewhere, the `out` array will retain its original value.\n",
      "        Note that if an uninitialized `out` array is created via the default\n",
      "        ``out=None``, locations within it where the condition is False will\n",
      "        remain uninitialized.\n",
      "    **kwargs\n",
      "        For other keyword-only arguments, see the\n",
      "        :ref:`ufunc docs <ufuncs.kwargs>`.\n",
      "\n",
      "    Returns\n",
      "    -------\n",
      "    y : ndarray\n",
      "        The corresponding cosine values.\n",
      "        This is a scalar if `x` is a scalar.\n",
      "\n",
      "    Notes\n",
      "    -----\n",
      "    If `out` is provided, the function writes the result into it,\n",
      "    and returns a reference to `out`.  (See Examples)\n",
      "\n",
      "    References\n",
      "    ----------\n",
      "    M. Abramowitz and I. A. Stegun, Handbook of Mathematical Functions.\n",
      "    New York, NY: Dover, 1972.\n",
      "\n",
      "    Examples\n",
      "    --------\n",
      "    >>> import numpy as np\n",
      "    >>> np.cos(np.array([0, np.pi/2, np.pi]))\n",
      "    array([  1.00000000e+00,   6.12303177e-17,  -1.00000000e+00])\n",
      "    >>>\n",
      "    >>> # Example of providing the optional output parameter\n",
      "    >>> out1 = np.array([0], dtype='d')\n",
      "    >>> out2 = np.cos([0.1], out1)\n",
      "    >>> out2 is out1\n",
      "    True\n",
      "    >>>\n",
      "    >>> # Example of ValueError due to provision of shape mis-matched `out`\n",
      "    >>> np.cos(np.zeros((3,3)),np.zeros((2,2)))\n",
      "    Traceback (most recent call last):\n",
      "      File \"<stdin>\", line 1, in <module>\n",
      "    ValueError: operands could not be broadcast together with shapes (3,3) (2,2)\n",
      "\n"
     ]
    }
   ],
   "execution_count": 6
  },
  {
   "cell_type": "markdown",
   "source": [
    "**Übung 5:**\n",
    "\n",
    "In einem rechtwinklichen Dreieck sei y die Gegenkathete des Winkels $\\theta$ mit y=3.2cm und x=2.4cm die Ankathete. Berechnen Sie den Winkel $\\theta$ und geben Sie diesen in Radianten sowie Grad an. Nutzen Sie dafür das **math**-Modul."
   ],
   "metadata": {
    "id": "B_AeQ4Es5q7_"
   }
  },
  {
   "cell_type": "code",
   "source": [
    "import math\n",
    "import numpy as np\n",
    "\n",
    "pi = np.pi\n",
    "y = 3.2\n",
    "x = 2.4\n",
    "radian = math.atan(y/x)     # Winkel zwischen x und y in Radianten\n",
    "degree = radian*(180/pi)    # Winkel umgerechnet in Grad\n",
    "\n",
    "print(f\"θ in Radianten:            {radian}\")\n",
    "print(f\"θ in Grad:                 {degree}°\")\n",
    "\n",
    "# gerundet\n",
    "print(\"θ in Radianten (gerundet): {:.2f}\".format(radian))\n",
    "print(\"θ in Grad (gerundet):      {:.2f}°\".format(degree))"
   ],
   "metadata": {
    "colab": {
     "base_uri": "https://localhost:8080/"
    },
    "id": "5pvfofgA5u0o",
    "executionInfo": {
     "status": "ok",
     "timestamp": 1733741322314,
     "user_tz": -60,
     "elapsed": 253,
     "user": {
      "displayName": "Yassin Starzetz",
      "userId": "08518633285526025834"
     }
    },
    "outputId": "60c792d5-1429-42dc-fa36-a51546b70b0f",
    "ExecuteTime": {
     "end_time": "2024-12-10T12:07:05.388290Z",
     "start_time": "2024-12-10T12:07:05.378228Z"
    }
   },
   "outputs": [
    {
     "name": "stdout",
     "output_type": "stream",
     "text": [
      "θ in Radianten:            0.9272952180016123\n",
      "θ in Grad:                 53.13010235415599°\n",
      "θ in Radianten (gerundet): 0.93\n",
      "θ in Grad (gerundet):      53.13°\n"
     ]
    }
   ],
   "execution_count": 7
  },
  {
   "metadata": {},
   "cell_type": "markdown",
   "source": "# Kapitel 1 Teil 2"
  },
  {
   "metadata": {},
   "cell_type": "markdown",
   "source": [
    "**Übung 1:**\n",
    "Weisen Sie der Variablen x den Wert von $\\pi$ zu (verwenden Sie 3 signifikante Stellen) und finden Sie heraus, zu welchem Datentyp x gehört."
   ]
  },
  {
   "metadata": {
    "ExecuteTime": {
     "end_time": "2024-12-10T13:26:17.184256Z",
     "start_time": "2024-12-10T13:26:17.167271Z"
    }
   },
   "cell_type": "code",
   "source": [
    "import numpy as np\n",
    "\n",
    "x = np.pi\n",
    "x = round(x, 2) # rundet auf die zweite Nachkommastelle\n",
    "\n",
    "print(f\"Pi:  {x}\")\n",
    "print(f\"Typ: {type(x)}\")"
   ],
   "outputs": [
    {
     "name": "stdout",
     "output_type": "stream",
     "text": [
      "Pi:  3.14\n",
      "Typ: <class 'float'>\n"
     ]
    }
   ],
   "execution_count": 46
  },
  {
   "metadata": {},
   "cell_type": "markdown",
   "source": [
    "**Übung 2:**\n",
    "Mithilfe der Syntax `x[i]` kann das i-te element der Liste x aufgerufen werden. Finden Sie heraus, wie man auf die erste der beiden oben erstellten Listen zugreift. Versuchen Sie Elemente mit negativen Indizes aufzurufen, z.B. `x[-1]`. Beschreiben Sie mit eigenen Worten was passiert ist."
   ]
  },
  {
   "metadata": {
    "ExecuteTime": {
     "end_time": "2024-12-10T12:28:54.146580Z",
     "start_time": "2024-12-10T12:28:54.135364Z"
    }
   },
   "cell_type": "code",
   "source": [
    "list_1= [1, 2, 3, 4]\n",
    "list_2 = [1, 2, \"car\", \"boat\"]\n",
    "\n",
    "print(list_1[0])\n",
    "print(list_2[0])\n",
    "print(list_1[-1], list_1[-2])"
   ],
   "outputs": [
    {
     "name": "stdout",
     "output_type": "stream",
     "text": [
      "1\n",
      "1\n",
      "4 3\n"
     ]
    }
   ],
   "execution_count": 27
  },
  {
   "metadata": {},
   "cell_type": "markdown",
   "source": "Beim Index [-1] wird das letzte Element der Liste zurückgegeben. Ein negativer Index, indexiert eine Liste sozusagen von hinten nach vorne."
  },
  {
   "metadata": {},
   "cell_type": "markdown",
   "source": [
    "**Übung 3:**\n",
    "\n",
    "Versuchen Sie den **print**-Befehl außerhalb des **for**-Blocks zu schreiben.\n"
   ]
  },
  {
   "metadata": {
    "ExecuteTime": {
     "end_time": "2024-12-10T13:35:12.316214Z",
     "start_time": "2024-12-10T13:35:12.306290Z"
    }
   },
   "cell_type": "code",
   "source": [
    "s=0.0\n",
    "for k in range(1,101):\n",
    "    s+=1/k\n",
    "print(\"Die Summe ist:\" , s) # gibt das Ergebnis der ganzen Schleife zurück"
   ],
   "outputs": [
    {
     "name": "stdout",
     "output_type": "stream",
     "text": [
      "Die Summe ist: 5.187377517639621\n"
     ]
    }
   ],
   "execution_count": 62
  },
  {
   "metadata": {},
   "cell_type": "markdown",
   "source": "Es wird nur noch das Resultat des For-Loops ausgegeben."
  },
  {
   "metadata": {},
   "cell_type": "markdown",
   "source": [
    "**Übung 4:**\n",
    "\n",
    "Definieren Sie eine Funktion, um den Durchschnitt von vier Zahlen zu bestimmen."
   ]
  },
  {
   "metadata": {
    "ExecuteTime": {
     "end_time": "2024-12-10T12:50:04.043652Z",
     "start_time": "2024-12-10T12:50:04.016248Z"
    }
   },
   "cell_type": "code",
   "source": [
    "def mean(numbers: list) -> float:\n",
    "    n = len(numbers)        # Anzahl der Zahlen\n",
    "    sum = 0\n",
    "    for number in numbers:  # Schleife welche die Summe der Zahlen berechnet\n",
    "        sum += number\n",
    "    med = sum/n             # Durchschnitt ist Summe / Anzahl\n",
    "    return med\n",
    "\n",
    "# Andere Schreibweise mit built-in Funktionen\n",
    "def mean2(numbers: list) -> float:\n",
    "    return sum(numbers) / len(numbers)\n",
    "\n",
    "# Wenn nur Listen mit der Länge 4 erlaubt sind, kann man folgende Bedingung einfügen\n",
    "def f(numbers):\n",
    "    if len(numbers) == 4:\n",
    "        pass # hier regulär ausführen\n",
    "    else:\n",
    "        raise Exception('numbers given are not 4')\n",
    "\n",
    "# Beispiel\n",
    "numbers = [1, 2, 3, 4]\n",
    "print(mean(numbers))\n",
    "print(mean2(numbers))"
   ],
   "outputs": [
    {
     "name": "stdout",
     "output_type": "stream",
     "text": [
      "2.5\n",
      "2.5\n"
     ]
    }
   ],
   "execution_count": 34
  },
  {
   "metadata": {},
   "cell_type": "markdown",
   "source": [
    "**Übung 5:**\n",
    "\n",
    "Definieren Sie eine Funktion, welche die Standardabweichung der vier gewählten Zahlen berechnet.\n",
    "$$\n",
    " \\sigma = \\sqrt{\\frac{1}{N-1} \\sum_{i=1}^N (x_i - \\overline{x})^2}\n",
    "$$\n",
    "mit N als Anzahl und $\\overline{x}$ als Mittelwert der Daten.\n",
    "\n",
    "**Überprüfen Sie immer** die numerischen Resultate.\n"
   ]
  },
  {
   "metadata": {
    "ExecuteTime": {
     "end_time": "2024-12-10T13:11:00.012035Z",
     "start_time": "2024-12-10T13:10:59.994265Z"
    }
   },
   "cell_type": "code",
   "source": [
    "import math\n",
    "\n",
    "def mean(numbers: list) -> float:\n",
    "    return sum(numbers) / len(numbers)\n",
    "\n",
    "def standard_deviation(numbers: list) -> float:\n",
    "    length = len(numbers)\n",
    "    average_number = mean(numbers)\n",
    "    sum = 0\n",
    "    for number in numbers:      # Schleife um die Summenformel zu berechnen\n",
    "        sum += (number - average_number)**2\n",
    "    return math.sqrt(1/(length-1)*sum)  # berechnet die Werte in der Formel\n",
    "\n",
    "# Beispiel\n",
    "numbers = [1, 2]\n",
    "print(standard_deviation(numbers))"
   ],
   "outputs": [
    {
     "name": "stdout",
     "output_type": "stream",
     "text": [
      "0.7071067811865476\n"
     ]
    }
   ],
   "execution_count": 39
  },
  {
   "metadata": {},
   "cell_type": "markdown",
   "source": [
    "**Übung 6:**\n",
    "\n",
    "Definieren Sie eine Funktion, welche die Summe aus den Quadrate der ersten n natürlichen Zahlen zurückgibt.\n"
   ]
  },
  {
   "metadata": {
    "ExecuteTime": {
     "end_time": "2024-12-10T13:17:34.459861Z",
     "start_time": "2024-12-10T13:17:34.440083Z"
    }
   },
   "cell_type": "code",
   "source": [
    "def sum_of_squares(n: int):\n",
    "    \"\"\"\n",
    "    Summe der Quadrate der ersten n Zahlen, n muss positiv sein\n",
    "    \"\"\"\n",
    "    sum = 0\n",
    "    i = 1\n",
    "    while i <= n:       # Schleife welche alle Quadrate der n-Zahlen addiert\n",
    "        sum += i**2\n",
    "        i += 1\n",
    "    return sum\n",
    "\n",
    "# Beispiel\n",
    "print(sum_of_squares(5))"
   ],
   "outputs": [
    {
     "name": "stdout",
     "output_type": "stream",
     "text": [
      "55\n"
     ]
    }
   ],
   "execution_count": 44
  },
  {
   "metadata": {},
   "cell_type": "markdown",
   "source": [
    "**Übung 7:**\n",
    "\n",
    "Geben Sie ein Volumen von 75,73 $m^3$ an und drücken Sie es mit allen signifikanten Stellen und in wissenschaftlicher Notation aus."
   ]
  },
  {
   "metadata": {
    "ExecuteTime": {
     "end_time": "2024-12-10T14:00:22.709555Z",
     "start_time": "2024-12-10T14:00:22.696736Z"
    }
   },
   "cell_type": "code",
   "source": [
    "x = 75.73\n",
    "\n",
    "print(f\"{x:.2}\")\n",
    "print(\"{:.2}\".format(x))"
   ],
   "outputs": [
    {
     "name": "stdout",
     "output_type": "stream",
     "text": [
      "7.6e+01\n",
      "7.6e+01\n"
     ]
    }
   ],
   "execution_count": 112
  }
 ]
}
