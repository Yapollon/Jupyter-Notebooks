{
 "nbformat": 4,
 "nbformat_minor": 0,
 "metadata": {
  "colab": {
   "provenance": []
  },
  "kernelspec": {
   "name": "python3",
   "display_name": "Python 3"
  },
  "language_info": {
   "name": "python"
  }
 },
 "cells": [
  {
   "cell_type": "markdown",
   "source": [
    "7.1.2025 \\\n",
    "Gruppe: Marlene, Luca, Yassin"
   ],
   "metadata": {
    "id": "uhc0YZkmg5uk"
   }
  },
  {
   "cell_type": "markdown",
   "source": [
    "# Verhalten dehnbarer Stoffe"
   ],
   "metadata": {
    "id": "s23DiMnFguRj"
   }
  },
  {
   "cell_type": "markdown",
   "source": [
    "## Inhaltsverzeichnis:\n",
    "* Versuchsdurchführung Teil 1\n",
    "* Versuchsdurchführung Teil 2"
   ],
   "metadata": {
    "id": "brn-Ixe0h3mi"
   }
  },
  {
   "cell_type": "markdown",
   "source": [
    "### Ziel:\n",
    "Unser Ziel ist es das Verhalten dehnbarer Stoffe zu untersuchen und uns mit selbst entwickelten Experimenten zu beschäftigen."
   ],
   "metadata": {
    "id": "_-ASWf20iQ0j"
   }
  },
  {
   "cell_type": "markdown",
   "source": [
    "## Versuchsdurchführung Teil 1"
   ],
   "metadata": {
    "id": "g_lCKwlxg-cj"
   }
  },
  {
   "cell_type": "markdown",
   "source": [
    "### Einleitung:\n",
    "In unserem ersten Versuch wollen wir testen, ob das Hooksche Modell das Verhalten einiger zufällig ausgewählten dehnbaren Stoffen gut beschreibt."
   ],
   "metadata": {
    "id": "uTRWmp19hUnr"
   }
  },
  {
   "cell_type": "markdown",
   "source": [
    "**Material:** \\\n",
    "- Haargummi \\\n",
    "- verschiedene Gewichte von 25g bis 200g\n",
    "\n",
    "**Durchführung:** \\\n",
    "Messung der Auslenkung verschiedener Gewichte an einem Haargummi zur Bestimmung der Federkonstante.\\\n",
    "\\\n",
    "**Messgerät:** \\\n",
    "Das Lineal von Westcott. Es hat eine Ableseskala von 1mm und eine unbekannte Geräteunsicherheit, welche vermutlich vernachlässigbar ist.\n",
    "Die Messunsicherheit beträgt somit:\\\n",
    "$$\n",
    "u_x = \\frac{u_{\\text{Skala}}}{2*\\sqrt{6}} = \\frac{1 \\, \\text{mm}}{2*\\sqrt{6}} \\approx 0,20 \\, \\text{mm}\n",
    "$$\n",
    "\\\n",
    "**Versuchsaufbau:** \\\n",
    "\\\n",
    "**Messung:** \\\n",
    "\n",
    "| Masse (g) | Messwert (mm) |\n",
    "|-----------|---------------|\n",
    "| 0         | 56            |\n",
    "| 25        | 75            |\n",
    "| 50        | 80            |\n",
    "| 100       | 91            |\n",
    "| 150       | 117           |\n",
    "| 200       | 142           |\n",
    "| 250       | 158           |\n",
    "| 300       | 165           |\n",
    "| 350       | 171           |\n",
    "| 400       | 173           |\n",
    "\n",
    "**Überlegungen:** \\\n",
    "Beim Ablesen ist uns aufgefallen, dass es teilweise schwer war herauszufinden wie weit unten die Gewichte sind, da sie nicht direkt neben dem Lineal standen und dadurch sich Ableseparallaxe gebildet haben. \\\n",
    "\n",
    "Außerdem haben wir festgestellt, dass die Gewichte möglicherweise durch Abnutzung, falsche Normung nicht korrekt sind und haben deswegen nochmal nachgemessen.\n",
    "\n",
    "**Messgerät:** \\\n",
    "Die Waage EK-6000H von A&D Instruments .Es hat eine Ableseskala von 0,1g und eine Geräteunsicherheit von 0,1g. Die Messunsicherhiet der Waage beträgt somit:\\\n",
    "$$\n",
    "u_m = \\sqrt{(\\frac{u_{\\text{Skala}}}{2*\\sqrt{3}})^2 + (u_{\\text{Gerät}})^2} = \\sqrt{\\left(\\frac{0,1}{2\\sqrt{3}}\\right)^2 + (0,1)^2} ≈ 0,10g\n",
    "$$\n",
    "\\\n",
    "**Messung:** \\\n",
    "\n",
    "| Masse (g) | Messwert (mm) |\n",
    "|-----------|---------------|\n",
    "| 0         | 56            |\n",
    "| 24,8      | 75            |\n",
    "| 50,1      | 80            |\n",
    "| 99,8      | 91            |\n",
    "| 149,9     | 117           |\n",
    "| 199,0     | 142           |\n",
    "| 249,1     | 158           |\n",
    "| 298,8     | 165           |\n",
    "| 348,9     | 171           |\n",
    "| 398       | 173           |\n",
    "\n",
    "**Auswertung:** \\\n",
    "\n",
    "\n",
    "$$\n",
    "F = m \\cdot g\n",
    "$$\n",
    "\n",
    "wobei \\( g = 9,81 \\, $\\mathrm{m/s^2}$ \\) die Erdbeschleunigung ist. Die Differenz der Auslenkungen wird berechnet als:\n",
    "\n",
    "$$\n",
    "\\Delta x = x - x_0\n",
    "$$\n",
    "\n",
    "| Gewichtskraft \\( F \\) (N) | Differenz \\( $\\Delta x$ \\) (mm)|\n",
    "|---------------------------|------------------------------|\n",
    "| 0.24                      | 19                           |\n",
    "| 0.49                      | 24                           |\n",
    "| 0.98                      | 35                           |\n",
    "| 1.47                      | 61                           |\n",
    "| 1.95                      | 86                           |\n",
    "| 2.44                      | 102                          |\n",
    "| 2.93                      | 109                          |\n",
    "| 3.42                      | 115                          |\n",
    "| 3.91                      | 117                          |\n",
    "\n",
    "Die Unsicherheiten von davor bleiben erhalten. \\\n",
    "$ u_F = g*u_m = 0,000981 N $ \\\n",
    "$ u_\\text{Δx} = u_x + u_x = 0,40mm $"
   ],
   "metadata": {
    "id": "Xvzcc-H3kK-y"
   }
  },
  {
   "cell_type": "code",
   "source": [
    "# benötigte Module\n",
    "import numpy as np\n",
    "import matplotlib.pyplot as plt\n",
    "import pandas as pd\n",
    "from scipy.optimize import curve_fit\n",
    "\n",
    "# Daten als Arrays\n",
    "F = np.array([0.00, 0.24, 0.49, 0.98, 1.47, 1.95, 2.44, 2.93, 3.42, 3.91])  # Gewichtskraft in N\n",
    "delta_x = np.array([0, 19, 24, 35, 61, 86, 102, 109, 115, 117])  # Differenz in mm\n",
    "\n",
    "#Unsicherheiten\n",
    "u_m = 0.1 / 1000     # 0.1 g in kg\n",
    "u_x = 0.2 / 1000     # 0.2 mm in m\n",
    "u_F = g = 9.81 * u_m # Unsicherheit der Gewichtskraft in N\n",
    "u_d = u_m + u_m      # Unsicherheit der Diffenrenz in m\n",
    "\n",
    "# Umwandlung in einen Panda DataFrame\n",
    "feder = pd.DataFrame({\n",
    "      'Differenz (mm)': delta_x,\n",
    "      'Gewichtskraft (N)': F,\n",
    "      'Unsicherheiten Gewichtskraft (N)': u_F,\n",
    "      'Unsicherheiten Differenz (mm)': u_d})\n",
    "df_feder = pd.DataFrame(data=feder)  # erzeugt ein Panda DataFrame\n",
    "\n",
    "# Struktur des DataFrames\n",
    "df_feder.head()"
   ],
   "metadata": {
    "colab": {
     "base_uri": "https://localhost:8080/",
     "height": 261
    },
    "id": "gWoDBwBmr0cA",
    "executionInfo": {
     "status": "ok",
     "timestamp": 1736260097236,
     "user_tz": -60,
     "elapsed": 788,
     "user": {
      "displayName": "Yassin Starzetz",
      "userId": "08518633285526025834"
     }
    },
    "outputId": "ea691574-e765-4c68-ba72-707bf106babc"
   },
   "execution_count": null,
   "outputs": [
    {
     "output_type": "execute_result",
     "data": {
      "text/plain": [
       "   Differenz (mm)  Gewichtskraft (N)  Unsicherheiten Gewichtskraft (N)  \\\n",
       "0               0               0.00                          0.000981   \n",
       "1              19               0.24                          0.000981   \n",
       "2              24               0.49                          0.000981   \n",
       "3              35               0.98                          0.000981   \n",
       "4              61               1.47                          0.000981   \n",
       "\n",
       "   Unsicherheiten Differenz (mm)  \n",
       "0                         0.0002  \n",
       "1                         0.0002  \n",
       "2                         0.0002  \n",
       "3                         0.0002  \n",
       "4                         0.0002  "
      ],
      "text/html": [
       "\n",
       "  <div id=\"df-4160a2f1-6244-474f-a225-89fdee2ad302\" class=\"colab-df-container\">\n",
       "    <div>\n",
       "<style scoped>\n",
       "    .dataframe tbody tr th:only-of-type {\n",
       "        vertical-align: middle;\n",
       "    }\n",
       "\n",
       "    .dataframe tbody tr th {\n",
       "        vertical-align: top;\n",
       "    }\n",
       "\n",
       "    .dataframe thead th {\n",
       "        text-align: right;\n",
       "    }\n",
       "</style>\n",
       "<table border=\"1\" class=\"dataframe\">\n",
       "  <thead>\n",
       "    <tr style=\"text-align: right;\">\n",
       "      <th></th>\n",
       "      <th>Differenz (mm)</th>\n",
       "      <th>Gewichtskraft (N)</th>\n",
       "      <th>Unsicherheiten Gewichtskraft (N)</th>\n",
       "      <th>Unsicherheiten Differenz (mm)</th>\n",
       "    </tr>\n",
       "  </thead>\n",
       "  <tbody>\n",
       "    <tr>\n",
       "      <th>0</th>\n",
       "      <td>0</td>\n",
       "      <td>0.00</td>\n",
       "      <td>0.000981</td>\n",
       "      <td>0.0002</td>\n",
       "    </tr>\n",
       "    <tr>\n",
       "      <th>1</th>\n",
       "      <td>19</td>\n",
       "      <td>0.24</td>\n",
       "      <td>0.000981</td>\n",
       "      <td>0.0002</td>\n",
       "    </tr>\n",
       "    <tr>\n",
       "      <th>2</th>\n",
       "      <td>24</td>\n",
       "      <td>0.49</td>\n",
       "      <td>0.000981</td>\n",
       "      <td>0.0002</td>\n",
       "    </tr>\n",
       "    <tr>\n",
       "      <th>3</th>\n",
       "      <td>35</td>\n",
       "      <td>0.98</td>\n",
       "      <td>0.000981</td>\n",
       "      <td>0.0002</td>\n",
       "    </tr>\n",
       "    <tr>\n",
       "      <th>4</th>\n",
       "      <td>61</td>\n",
       "      <td>1.47</td>\n",
       "      <td>0.000981</td>\n",
       "      <td>0.0002</td>\n",
       "    </tr>\n",
       "  </tbody>\n",
       "</table>\n",
       "</div>\n",
       "    <div class=\"colab-df-buttons\">\n",
       "\n",
       "  <div class=\"colab-df-container\">\n",
       "    <button class=\"colab-df-convert\" onclick=\"convertToInteractive('df-4160a2f1-6244-474f-a225-89fdee2ad302')\"\n",
       "            title=\"Convert this dataframe to an interactive table.\"\n",
       "            style=\"display:none;\">\n",
       "\n",
       "  <svg xmlns=\"http://www.w3.org/2000/svg\" height=\"24px\" viewBox=\"0 -960 960 960\">\n",
       "    <path d=\"M120-120v-720h720v720H120Zm60-500h600v-160H180v160Zm220 220h160v-160H400v160Zm0 220h160v-160H400v160ZM180-400h160v-160H180v160Zm440 0h160v-160H620v160ZM180-180h160v-160H180v160Zm440 0h160v-160H620v160Z\"/>\n",
       "  </svg>\n",
       "    </button>\n",
       "\n",
       "  <style>\n",
       "    .colab-df-container {\n",
       "      display:flex;\n",
       "      gap: 12px;\n",
       "    }\n",
       "\n",
       "    .colab-df-convert {\n",
       "      background-color: #E8F0FE;\n",
       "      border: none;\n",
       "      border-radius: 50%;\n",
       "      cursor: pointer;\n",
       "      display: none;\n",
       "      fill: #1967D2;\n",
       "      height: 32px;\n",
       "      padding: 0 0 0 0;\n",
       "      width: 32px;\n",
       "    }\n",
       "\n",
       "    .colab-df-convert:hover {\n",
       "      background-color: #E2EBFA;\n",
       "      box-shadow: 0px 1px 2px rgba(60, 64, 67, 0.3), 0px 1px 3px 1px rgba(60, 64, 67, 0.15);\n",
       "      fill: #174EA6;\n",
       "    }\n",
       "\n",
       "    .colab-df-buttons div {\n",
       "      margin-bottom: 4px;\n",
       "    }\n",
       "\n",
       "    [theme=dark] .colab-df-convert {\n",
       "      background-color: #3B4455;\n",
       "      fill: #D2E3FC;\n",
       "    }\n",
       "\n",
       "    [theme=dark] .colab-df-convert:hover {\n",
       "      background-color: #434B5C;\n",
       "      box-shadow: 0px 1px 3px 1px rgba(0, 0, 0, 0.15);\n",
       "      filter: drop-shadow(0px 1px 2px rgba(0, 0, 0, 0.3));\n",
       "      fill: #FFFFFF;\n",
       "    }\n",
       "  </style>\n",
       "\n",
       "    <script>\n",
       "      const buttonEl =\n",
       "        document.querySelector('#df-4160a2f1-6244-474f-a225-89fdee2ad302 button.colab-df-convert');\n",
       "      buttonEl.style.display =\n",
       "        google.colab.kernel.accessAllowed ? 'block' : 'none';\n",
       "\n",
       "      async function convertToInteractive(key) {\n",
       "        const element = document.querySelector('#df-4160a2f1-6244-474f-a225-89fdee2ad302');\n",
       "        const dataTable =\n",
       "          await google.colab.kernel.invokeFunction('convertToInteractive',\n",
       "                                                    [key], {});\n",
       "        if (!dataTable) return;\n",
       "\n",
       "        const docLinkHtml = 'Like what you see? Visit the ' +\n",
       "          '<a target=\"_blank\" href=https://colab.research.google.com/notebooks/data_table.ipynb>data table notebook</a>'\n",
       "          + ' to learn more about interactive tables.';\n",
       "        element.innerHTML = '';\n",
       "        dataTable['output_type'] = 'display_data';\n",
       "        await google.colab.output.renderOutput(dataTable, element);\n",
       "        const docLink = document.createElement('div');\n",
       "        docLink.innerHTML = docLinkHtml;\n",
       "        element.appendChild(docLink);\n",
       "      }\n",
       "    </script>\n",
       "  </div>\n",
       "\n",
       "\n",
       "<div id=\"df-cd90cb89-167e-4b16-883b-5dee2eec7229\">\n",
       "  <button class=\"colab-df-quickchart\" onclick=\"quickchart('df-cd90cb89-167e-4b16-883b-5dee2eec7229')\"\n",
       "            title=\"Suggest charts\"\n",
       "            style=\"display:none;\">\n",
       "\n",
       "<svg xmlns=\"http://www.w3.org/2000/svg\" height=\"24px\"viewBox=\"0 0 24 24\"\n",
       "     width=\"24px\">\n",
       "    <g>\n",
       "        <path d=\"M19 3H5c-1.1 0-2 .9-2 2v14c0 1.1.9 2 2 2h14c1.1 0 2-.9 2-2V5c0-1.1-.9-2-2-2zM9 17H7v-7h2v7zm4 0h-2V7h2v10zm4 0h-2v-4h2v4z\"/>\n",
       "    </g>\n",
       "</svg>\n",
       "  </button>\n",
       "\n",
       "<style>\n",
       "  .colab-df-quickchart {\n",
       "      --bg-color: #E8F0FE;\n",
       "      --fill-color: #1967D2;\n",
       "      --hover-bg-color: #E2EBFA;\n",
       "      --hover-fill-color: #174EA6;\n",
       "      --disabled-fill-color: #AAA;\n",
       "      --disabled-bg-color: #DDD;\n",
       "  }\n",
       "\n",
       "  [theme=dark] .colab-df-quickchart {\n",
       "      --bg-color: #3B4455;\n",
       "      --fill-color: #D2E3FC;\n",
       "      --hover-bg-color: #434B5C;\n",
       "      --hover-fill-color: #FFFFFF;\n",
       "      --disabled-bg-color: #3B4455;\n",
       "      --disabled-fill-color: #666;\n",
       "  }\n",
       "\n",
       "  .colab-df-quickchart {\n",
       "    background-color: var(--bg-color);\n",
       "    border: none;\n",
       "    border-radius: 50%;\n",
       "    cursor: pointer;\n",
       "    display: none;\n",
       "    fill: var(--fill-color);\n",
       "    height: 32px;\n",
       "    padding: 0;\n",
       "    width: 32px;\n",
       "  }\n",
       "\n",
       "  .colab-df-quickchart:hover {\n",
       "    background-color: var(--hover-bg-color);\n",
       "    box-shadow: 0 1px 2px rgba(60, 64, 67, 0.3), 0 1px 3px 1px rgba(60, 64, 67, 0.15);\n",
       "    fill: var(--button-hover-fill-color);\n",
       "  }\n",
       "\n",
       "  .colab-df-quickchart-complete:disabled,\n",
       "  .colab-df-quickchart-complete:disabled:hover {\n",
       "    background-color: var(--disabled-bg-color);\n",
       "    fill: var(--disabled-fill-color);\n",
       "    box-shadow: none;\n",
       "  }\n",
       "\n",
       "  .colab-df-spinner {\n",
       "    border: 2px solid var(--fill-color);\n",
       "    border-color: transparent;\n",
       "    border-bottom-color: var(--fill-color);\n",
       "    animation:\n",
       "      spin 1s steps(1) infinite;\n",
       "  }\n",
       "\n",
       "  @keyframes spin {\n",
       "    0% {\n",
       "      border-color: transparent;\n",
       "      border-bottom-color: var(--fill-color);\n",
       "      border-left-color: var(--fill-color);\n",
       "    }\n",
       "    20% {\n",
       "      border-color: transparent;\n",
       "      border-left-color: var(--fill-color);\n",
       "      border-top-color: var(--fill-color);\n",
       "    }\n",
       "    30% {\n",
       "      border-color: transparent;\n",
       "      border-left-color: var(--fill-color);\n",
       "      border-top-color: var(--fill-color);\n",
       "      border-right-color: var(--fill-color);\n",
       "    }\n",
       "    40% {\n",
       "      border-color: transparent;\n",
       "      border-right-color: var(--fill-color);\n",
       "      border-top-color: var(--fill-color);\n",
       "    }\n",
       "    60% {\n",
       "      border-color: transparent;\n",
       "      border-right-color: var(--fill-color);\n",
       "    }\n",
       "    80% {\n",
       "      border-color: transparent;\n",
       "      border-right-color: var(--fill-color);\n",
       "      border-bottom-color: var(--fill-color);\n",
       "    }\n",
       "    90% {\n",
       "      border-color: transparent;\n",
       "      border-bottom-color: var(--fill-color);\n",
       "    }\n",
       "  }\n",
       "</style>\n",
       "\n",
       "  <script>\n",
       "    async function quickchart(key) {\n",
       "      const quickchartButtonEl =\n",
       "        document.querySelector('#' + key + ' button');\n",
       "      quickchartButtonEl.disabled = true;  // To prevent multiple clicks.\n",
       "      quickchartButtonEl.classList.add('colab-df-spinner');\n",
       "      try {\n",
       "        const charts = await google.colab.kernel.invokeFunction(\n",
       "            'suggestCharts', [key], {});\n",
       "      } catch (error) {\n",
       "        console.error('Error during call to suggestCharts:', error);\n",
       "      }\n",
       "      quickchartButtonEl.classList.remove('colab-df-spinner');\n",
       "      quickchartButtonEl.classList.add('colab-df-quickchart-complete');\n",
       "    }\n",
       "    (() => {\n",
       "      let quickchartButtonEl =\n",
       "        document.querySelector('#df-cd90cb89-167e-4b16-883b-5dee2eec7229 button');\n",
       "      quickchartButtonEl.style.display =\n",
       "        google.colab.kernel.accessAllowed ? 'block' : 'none';\n",
       "    })();\n",
       "  </script>\n",
       "</div>\n",
       "\n",
       "    </div>\n",
       "  </div>\n"
      ],
      "application/vnd.google.colaboratory.intrinsic+json": {
       "type": "dataframe",
       "variable_name": "df_feder",
       "summary": "{\n  \"name\": \"df_feder\",\n  \"rows\": 10,\n  \"fields\": [\n    {\n      \"column\": \"Differenz (mm)\",\n      \"properties\": {\n        \"dtype\": \"number\",\n        \"std\": 44,\n        \"min\": 0,\n        \"max\": 117,\n        \"num_unique_values\": 10,\n        \"samples\": [\n          115,\n          19,\n          86\n        ],\n        \"semantic_type\": \"\",\n        \"description\": \"\"\n      }\n    },\n    {\n      \"column\": \"Gewichtskraft (N)\",\n      \"properties\": {\n        \"dtype\": \"number\",\n        \"std\": 1.3724920562409257,\n        \"min\": 0.0,\n        \"max\": 3.91,\n        \"num_unique_values\": 10,\n        \"samples\": [\n          3.42,\n          0.24,\n          1.95\n        ],\n        \"semantic_type\": \"\",\n        \"description\": \"\"\n      }\n    },\n    {\n      \"column\": \"Unsicherheiten Gewichtskraft (N)\",\n      \"properties\": {\n        \"dtype\": \"number\",\n        \"std\": 2.28569887277129e-19,\n        \"min\": 0.000981,\n        \"max\": 0.000981,\n        \"num_unique_values\": 1,\n        \"samples\": [\n          0.000981\n        ],\n        \"semantic_type\": \"\",\n        \"description\": \"\"\n      }\n    },\n    {\n      \"column\": \"Unsicherheiten Differenz (mm)\",\n      \"properties\": {\n        \"dtype\": \"number\",\n        \"std\": 2.8571235909641123e-20,\n        \"min\": 0.0002,\n        \"max\": 0.0002,\n        \"num_unique_values\": 1,\n        \"samples\": [\n          0.0002\n        ],\n        \"semantic_type\": \"\",\n        \"description\": \"\"\n      }\n    }\n  ]\n}"
      }
     },
     "metadata": {},
     "execution_count": 31
    }
   ]
  },
  {
   "cell_type": "code",
   "source": [
    "# Parameter aus dem DataFrame\n",
    "x2 = df_feder['Differenz (mm)']\n",
    "y2 = df_feder['Gewichtskraft (N)']\n",
    "xerr = df_feder['Unsicherheiten Differenz (mm)']\n",
    "yerr = df_feder['Unsicherheiten Gewichtskraft (N)']\n",
    "\n",
    "# Diagramm, welches die Daten mit Fehlerbalken anzeigt\n",
    "plt.errorbar(x2, y2, xerr=xerr, yerr=yerr, fmt='go', label='Daten mit Messunsicherheitsbalken', capsize=5)\n",
    "\n",
    "# Plot-Einstellungen\n",
    "plt.grid(True)\n",
    "plt.legend(loc=\"upper left\")  # Ort der Legende\n",
    "plt.xlabel('Differenz (mm)')\n",
    "plt.ylabel('Gewichtskraft (N)')\n",
    "plt.title(\"Differenz gegen Gewichtskraft\")\n",
    "plt.show()"
   ],
   "metadata": {
    "colab": {
     "base_uri": "https://localhost:8080/",
     "height": 204
    },
    "id": "BWXxrEQmxQd_",
    "executionInfo": {
     "status": "ok",
     "timestamp": 1736260098167,
     "user_tz": -60,
     "elapsed": 937,
     "user": {
      "displayName": "Yassin Starzetz",
      "userId": "08518633285526025834"
     }
    },
    "outputId": "fe79aa0e-d707-44c9-d530-e1e9ad31830c"
   },
   "execution_count": null,
   "outputs": [
    {
     "output_type": "display_data",
     "data": {
      "text/plain": [
       "<Figure size 1000x500 with 1 Axes>"
      ],
      "image/png": "[encoded data removed]"
     },
     "metadata": {}
    }
   ]
  },
  {
   "cell_type": "markdown",
   "source": [
    "**Fazit:**\n",
    "Das Hooksche Gesetz sagt uns, dass ein dehnbarer Stoff einen linearen Zusammenhang hat zwischen der Gewichtskraft welche auf ihn wirkt und der damit resultierenden Auslenkung. Unsere Messdaten vom Haargummi unterstützen dies nicht perfekt, aber zeigen dennoch eine näherbar lineare Abhängigkeit. Wir vermuten das es möglicherweise mehrere Bereiche mit lineare Abhängigkeiten gibt, woraus auch folgt, dass das Haargummi unterschiedliche Federkonstanten unter verschiedene Gewichtsauslastungen hat."
   ],
   "metadata": {
    "id": "iKtVvNMYDXLy"
   }
  },
  {
   "cell_type": "markdown",
   "source": [
    "## Versuchsdurchführung Teil 2"
   ],
   "metadata": {
    "id": "dpwGB4rmhSnb"
   }
  },
  {
   "cell_type": "markdown",
   "source": [
    "### Einleitung:\n",
    "\n",
    "Für den 2. Teil unseres Versuches haben wir uns selbständig eine Forschungsfrage überlegt, die wir anschließend überprüfen. \\\n",
    "Wir wollen herausfinden ob wir das Haargummi aus Teil 1 so stark verformen können, sodass sich die \"Federkonstante\" des Haargummi dauerhaft verändert. Es sich also plastisch verformt ohne zu reißen."
   ],
   "metadata": {
    "id": "ZZcyInMd6HF0"
   }
  },
  {
   "cell_type": "markdown",
   "source": [
    "### Durchführung:\n",
    "Dafür verwenden wir den Versuchsaufbau aus Teil 1. \\\n",
    "Wir messen die Auslenkung des Haargummis mit einem Gewicht von 150g als Referenz, vor der Belastung mit hohem Gewicht. \\\n",
    "Danach belasten wir das Haargummi mit einem sehr großen Gewicht und testen danach wieder die Auslenkung mit unserem Referenzgewicht 150g. \\\n",
    "Sollte sich die Auslenkung noch nicht verändert haben, führen wir den Versuch nochmal mit noch größerem Gewicht durch."
   ],
   "metadata": {
    "id": "LvUH5mHO7T7O"
   }
  },
  {
   "cell_type": "markdown",
   "source": [
    "### Messwerte:\n",
    "\n",
    "1. Mal Belastung mit 150g: Auslenkung um 117mm \\\n",
    "Belastung mit 800g\n",
    "2. Mal Belastung mit 150g: Auslenkung um 120mm"
   ],
   "metadata": {
    "id": "ME5SYhuL-45w"
   }
  },
  {
   "cell_type": "markdown",
   "source": [
    "###### Bemerkung:\n",
    "\n",
    "Nachdem das Haargummi mit 800g belastet wurde, hat sich die Auslenkung mit 150g Belastung mit der Zeit langsam vergrößert. \\\n",
    "Woraus folgt, dass die 2. Messung direkt noch dem Belasten mit 150g stattfinden muss."
   ],
   "metadata": {
    "id": "pBkk4iGN_VHt"
   }
  },
  {
   "cell_type": "markdown",
   "source": [
    "### Auswertung:\n",
    "\n",
    "Wir haben einen Unterschied von 3mm gemessen, was im Vergleich zu unserer Messunsicherheit von 0,20mm signifikant ist. Somit können wir aus unseren Messungen schließen, dass eine Belastung mit 800g die \"Federkonstante\" des Haargummis langfristig verändert hat. \\\n",
    "Daraus lässt sich vermuten, dass sich das Haargummi dauerhaft plastisch verformt hat. Die Elastizität des Haargummis ist dauerhaft verändert und geht nicht mehr in den Ursprungszustand zurück.\n"
   ],
   "metadata": {
    "id": "pmsnnAHe_zcr"
   }
  }
 ]
}
