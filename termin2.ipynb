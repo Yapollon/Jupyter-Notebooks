{
 "cells": [
  {
   "metadata": {},
   "cell_type": "markdown",
   "source": [
    "**Gruppe:** \\\n",
    "Luca Kässner \\\n",
    "Marlene Conrad \\\n",
    "Yassin Starzetz\n"
   ],
   "id": "8d07a3e147f5db8a"
  },
  {
   "metadata": {},
   "cell_type": "markdown",
   "source": "# Kapitel 2 Teil 1",
   "id": "69b0507957ded756"
  },
  {
   "metadata": {},
   "cell_type": "markdown",
   "source": [
    "**Übung 1:**\n",
    "\n",
    "Erstellen Sie zwei Arrays, in welchen Sie die Werte aus der Tabelle speichern, wobei das erste Array die x-Werte und das zweite die y-Werte enhalten soll.\n",
    "\n",
    "| x    | y     |\n",
    "|------|-------|\n",
    "| 20.1 | 5.3   |\n",
    "| 8.5  | 3.2   |\n",
    "| 1.7  | 9.8   |\n",
    "| 4.7  | 7.8   |\n",
    "| 6.6  | 21.9  |\n"
   ],
   "id": "91e04fb04efb6fb9"
  },
  {
   "metadata": {
    "collapsed": true,
    "ExecuteTime": {
     "end_time": "2024-12-17T09:21:10.222562Z",
     "start_time": "2024-12-17T09:21:10.211839Z"
    }
   },
   "cell_type": "code",
   "source": [
    "import numpy as np\n",
    "\n",
    "a = np.array([20.1, 8.5, 1.7, 4.7, 6.6]) # ein-dimensionales Array aller x Werte\n",
    "b = np.array([5.3, 3.2, 9.8, 7.8, 21.9]) # ein-dimensionales Array aller y Werte\n",
    "print(\"x-Werte: \", a)\n",
    "print(\"y-Werte: \", b)\n"
   ],
   "id": "initial_id",
   "outputs": [
    {
     "name": "stdout",
     "output_type": "stream",
     "text": [
      "x-Werte:  [20.1  8.5  1.7  4.7  6.6]\n",
      "y-Werte:  [ 5.3  3.2  9.8  7.8 21.9]\n"
     ]
    }
   ],
   "execution_count": 11
  },
  {
   "metadata": {},
   "cell_type": "markdown",
   "source": [
    "**Übung 2:**\n",
    "Betrachen Sie das Array `C=(10, 20, 30, 40, 50, 60, 70, 80, 90, 100)` und formulieren Sie Vermutungen, was die folgenden Befehle ausgeben werden. Vergleichen Sie Ihre Vermutung mit den Ergebnissen und schreiben Sie Ihre Schlussfolgerungen in einer Markdown-Zelle.\n",
    "\n",
    "- C[9]\n",
    "- C[-1]\n",
    "- C[1:3]\n",
    "- C[1:]\n",
    "- C[:5]\n",
    "- C[0:6:2]\n",
    "- C[::2]"
   ],
   "id": "9551fee6eb9b943e"
  },
  {
   "metadata": {},
   "cell_type": "markdown",
   "source": [
    "Vermutung\n",
    "- C[9]      gibt das 9. Element wieder [100]\n",
    "- C[-1]     gibt das 9. Element wieder [100]\n",
    "- C[1:3]    gibt das 1. bis 2. Element wieder [20, 30]\n",
    "- C[1:]     gibt alles nach dem 1. Element wieder [20, 30, 40, 50, 60, 70, 80, 90, 100]\n",
    "- C[:5]     gibt alles vor dem 5. Element wieder [10, 20, 30, 40, 50]\n",
    "- C[0:6:2]  gibt vom 0. bis 6. Element jedes zweite wieder [10, 30, 50]\n",
    "- C[::2]    gibt jedes zweite Element wieder [10, 30, 50, 70, 90]"
   ],
   "id": "a85a69067a4408ab"
  },
  {
   "metadata": {
    "ExecuteTime": {
     "end_time": "2024-12-17T09:40:28.709433Z",
     "start_time": "2024-12-17T09:40:28.678404Z"
    }
   },
   "cell_type": "code",
   "source": [
    "a = np.array([10, 20, 30, 40, 50, 60, 70, 80, 90, 100]) # Array mit 10 Elementen\n",
    "print(\"C[9]    \", a[9])\n",
    "print(\"C[-1]   \", a[-1])\n",
    "print(\"C[1:3]  \", a[1:3])\n",
    "print(\"C[1:]   \", a[1:])\n",
    "print(\"C[:5]   \", a[:5])\n",
    "print(\"C[0:6:2]\", a[0:6:2])\n",
    "print(\"C[::2]  \", a[::2])"
   ],
   "id": "a5d261325407af61",
   "outputs": [
    {
     "name": "stdout",
     "output_type": "stream",
     "text": [
      "C[9]     100\n",
      "C[-1]    100\n",
      "C[1:3]   [20 30]\n",
      "C[1:]    [ 20  30  40  50  60  70  80  90 100]\n",
      "C[:5]    [10 20 30 40 50]\n",
      "C[0:6:2] [10 30 50]\n",
      "C[::2]   [10 30 50 70 90]\n"
     ]
    }
   ],
   "execution_count": 13
  },
  {
   "metadata": {},
   "cell_type": "markdown",
   "source": "Ich lag wohl richtig mit meinen Vermutungen :)",
   "id": "16885c76c7f370e5"
  },
  {
   "metadata": {},
   "cell_type": "markdown",
   "source": [
    "**Übung 3:**\n",
    "\n",
    "Erstellen Sie ein Array mit 20 Zahlen zwischen 1 und 10."
   ],
   "id": "96362ef737653e02"
  },
  {
   "metadata": {
    "ExecuteTime": {
     "end_time": "2024-12-17T09:45:15.862070Z",
     "start_time": "2024-12-17T09:45:15.844825Z"
    }
   },
   "cell_type": "code",
   "source": [
    "a = np.linspace(1,10, 20) # generiert ein Array mit 20 Zahlen zwischen 1 und 10\n",
    "print(a)\n",
    "print(\"Länge: \", a.shape[0])"
   ],
   "id": "f5d7797c28252cc",
   "outputs": [
    {
     "name": "stdout",
     "output_type": "stream",
     "text": [
      "[ 1.          1.47368421  1.94736842  2.42105263  2.89473684  3.36842105\n",
      "  3.84210526  4.31578947  4.78947368  5.26315789  5.73684211  6.21052632\n",
      "  6.68421053  7.15789474  7.63157895  8.10526316  8.57894737  9.05263158\n",
      "  9.52631579 10.        ]\n",
      "Länge:  20\n"
     ]
    }
   ],
   "execution_count": 19
  },
  {
   "metadata": {},
   "cell_type": "markdown",
   "source": [
    "**Übung 4:**\n",
    "\n",
    "Wir beginnen mit einem Beispiel. Sie möchten die Körpergröße Ihres Freundes wissen und haben dafür eine Messreihe aufgenommen:\n",
    "\n",
    "- 180 cm\n",
    "- 179 cm\n",
    "- 181 cm\n",
    "- 182 cm\n",
    "- 178 cm\n",
    "- 179.7 cm \\\n",
    "\n",
    "Die Standardabweichung der Stichprobe $\\sigma$ kann bekanntlich mit Hilfe der folgenden Formel berechnet werden:\n",
    "\n",
    "$$σ_{sample}^2 = \\frac{1}{N-1}\\sum_{i=1}^n(x_i-\\overline{x})^2$$\n",
    "\n",
    "Hierbei sind $x_i$ die Werte der individuellen Datenpunkte, $\\overline{x}$ der Mittelwert der Datenreihe und $N$ die Anzahl der Datenpunkte.\n",
    "\n",
    "Versuchen Sie, anstelle die Formel zu nutzen, den Mittelwert und die Standardabweichung direkt mit den Numpy-Funktionen **mean** und **std** zu berechnen. Geben Sie das Ergebnis im Format {:.3f} aus.\n",
    "\n",
    "\\\n",
    "**Achtung**: Die Numpy-Funktion **std** dividiert durch `N-ddoF`. Dabei ist `N` die Anzahl der Elemente und `ddof` die Anzahl der Freiheitsgrade (\"Delta Degrees of Freedom\"). Wird nichts anderes angegeben, setzt Python `ddoF` standardmäßig auf null. Ist allerdings bspw. der Term `N-1` im Nenner gewünscht, so muss im Argument der Funktion `ddoF=1` spezifiziert werden.\n"
   ],
   "id": "31bd91c973252520"
  },
  {
   "metadata": {
    "ExecuteTime": {
     "end_time": "2024-12-17T10:04:29.919877Z",
     "start_time": "2024-12-17T10:04:29.906881Z"
    }
   },
   "cell_type": "code",
   "source": [
    "a = np.array([180, 179, 181, 182, 178, 179.7])\n",
    "std = np.std(a, ddof=1)\n",
    "print(f\"Die Standardabweichung beträgt: {std:.3f}cm\")"
   ],
   "id": "e65a6b155257296f",
   "outputs": [
    {
     "name": "stdout",
     "output_type": "stream",
     "text": [
      "Die Standardabweichung beträgt: 1.420cm\n"
     ]
    }
   ],
   "execution_count": 35
  },
  {
   "metadata": {},
   "cell_type": "markdown",
   "source": [
    "**Übung 5:**\n",
    "\n",
    "Berechnen Sie nun die Unsicherheit des Mittelwertes:\n",
    "\n",
    "$$σ_{\\overline{x}}=\\frac{t*σ_{sample}}{\\sqrt N}$$\n",
    "\n",
    "Da die Anzahl der Messungen $N$ klein ist, muss der Studentfaktor $t$ mit einbezogen werden. Für $N=6$ ist $t=1,1$.\n",
    "Um die Unsicherheit des Mittelwertes zu berechnen, wird die Länge $N$ des Arrays benötigt. Diese kann mithilfe des **len()**-Befehls ermittelt werden. \\\n",
    "Geben Sie das Ergebnis im {:.2f}-Format aus."
   ],
   "id": "186ebfb6c6541d2d"
  },
  {
   "metadata": {
    "ExecuteTime": {
     "end_time": "2024-12-17T10:08:01.057333Z",
     "start_time": "2024-12-17T10:08:01.048447Z"
    }
   },
   "cell_type": "code",
   "source": [
    "import math\n",
    "\n",
    "def mean_deviation(deviation: float, t: float) -> float:\n",
    "    \"\"\"function to determine the deviation of elements in an array to the mean\"\"\"\n",
    "    return t*deviation/math.sqrt(np.shape(a)[0])\n",
    "\n",
    "a = np.array([180, 179, 181, 182, 178, 179.7]) # Array der Messwerte\n",
    "std = np.std(a, ddof=1) # Standardabweichung\n",
    "s_faktor = 1.1 # Studentenfaktor\n",
    "\n",
    "md = mean_deviation(std, s_faktor)\n",
    "print(f\"Unsicherheit des Mittelwerts: {md:.2f}\")"
   ],
   "id": "d6849f88d3d61a7e",
   "outputs": [
    {
     "name": "stdout",
     "output_type": "stream",
     "text": [
      "Unsicherheit des Mittelwerts: 0.64\n"
     ]
    }
   ],
   "execution_count": 39
  },
  {
   "metadata": {},
   "cell_type": "markdown",
   "source": [
    "**Übung 6:**\n",
    "\n",
    "Die folgenden Daten beschreiben den Betrag der Auslenkung einer Feder bei Verformung durch Anhängen bekannter Massen.\n",
    "\n",
    "Erstellen Sie ein Diagramm für diese Daten und fügen Sie einen Titel, eine Legende und Achsenbeschriftungen hinzu. Wählen Sie zusätzlich den Linienstil, die Markierungssymbole und deren Farbe aus.\n",
    "\n",
    "|Δs(cm)|Masse(g)|\n",
    "|---|---|\n",
    "|0.4|100.0|\n",
    "|0.7|150.0|\n",
    "|0.8|199.1|\n",
    "|1.1|249.1|\n",
    "|1.4|299.1|\n",
    "|1.9|344.1|\n",
    "|2.3|399.8|\n",
    "|2.7|448.9|"
   ],
   "id": "f30acc27e94a1e0b"
  },
  {
   "metadata": {
    "ExecuteTime": {
     "end_time": "2024-12-17T10:22:43.943182Z",
     "start_time": "2024-12-17T10:22:43.724708Z"
    }
   },
   "cell_type": "code",
   "source": [
    "import matplotlib.pyplot as plt\n",
    "\n",
    "x = [0.4, 0.7, 0.8, 1.1, 1.4, 1.9, 2.3, 2.7] # Δs(cm)\n",
    "y = [100.0, 150.0, 199.1, 249.1, 299.1, 344.1, 399.8, 448.9] # Masse(g)\n",
    "\n",
    "plt.figure(figsize=(15, 7), dpi=80)\n",
    "plt.plot(x,y,'ro--', label=\"Datensatz 1\")\n",
    "plt.xlabel(' Δs(cm)',fontsize=16)  # Beschriftung der x-Achse\n",
    "plt.ylabel(' Masse(g)',fontsize=16)   # Beschriftung der y-Achse\n",
    "plt.title('Auslenkung einer Feder bei Verformung durch Anhängen bekannter Massen', fontsize=20) # Titel\n",
    "plt.legend(fontsize=14) # Anzeige einer Legende im Diagramm\n",
    "plt.show() # Ausgabe des Diagramms\n",
    "#plt.scatter()"
   ],
   "id": "5a467a43560f6722",
   "outputs": [
    {
     "data": {
      "text/plain": [
       "<Figure size 1200x560 with 1 Axes>"
      ],
      "image/png": "[encoded data removed]"
     },
     "metadata": {},
     "output_type": "display_data"
    }
   ],
   "execution_count": 47
  },
  {
   "metadata": {},
   "cell_type": "markdown",
   "source": "# Kapitel 2 Teil 2",
   "id": "f6092065382fd37b"
  },
  {
   "metadata": {},
   "cell_type": "code",
   "outputs": [],
   "execution_count": null,
   "source": [
    "# importieren Sie alle benötigten Module\n",
    "import numpy as np\n",
    "import matplotlib.pyplot as plt\n",
    "import pandas as pd\n",
    "from scipy.optimize import curve_fit\n",
    "\n",
    "plt.rcParams['figure.figsize'] = (10,5) # Groesse der Abbildung\n",
    "plt.rcParams['font.size'] = 16    # Schriftgroesse des Textes\n",
    "plt.rcParams['legend.fontsize'] = 14  # Schriftgoesse der Legende\n",
    "#plt.rcParams['lines.linestyle'] = '--'  # Wenn benoetigt, kann die Linienart spezifiziert werden\n",
    "#plt.rcParams['lines.linewidth'] = 2    # Linienstaerke\n"
   ],
   "id": "3d4cc084bd51343c"
  },
  {
   "metadata": {},
   "cell_type": "markdown",
   "source": "",
   "id": "21750907f9530adc"
  },
  {
   "metadata": {},
   "cell_type": "code",
   "outputs": [],
   "execution_count": null,
   "source": "",
   "id": "2e4fcfe865702d08"
  }
 ],
 "metadata": {
  "kernelspec": {
   "display_name": "Python 3",
   "language": "python",
   "name": "python3"
  },
  "language_info": {
   "codemirror_mode": {
    "name": "ipython",
    "version": 2
   },
   "file_extension": ".py",
   "mimetype": "text/x-python",
   "name": "python",
   "nbconvert_exporter": "python",
   "pygments_lexer": "ipython2",
   "version": "2.7.6"
  }
 },
 "nbformat": 4,
 "nbformat_minor": 5
}
